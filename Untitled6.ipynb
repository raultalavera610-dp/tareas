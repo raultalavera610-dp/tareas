{
  "nbformat": 4,
  "nbformat_minor": 0,
  "metadata": {
    "colab": {
      "provenance": []
    },
    "kernelspec": {
      "name": "python3",
      "display_name": "Python 3"
    },
    "language_info": {
      "name": "python"
    }
  },
  "cells": [
    {
      "cell_type": "code",
      "execution_count": 16,
      "metadata": {
        "colab": {
          "base_uri": "https://localhost:8080/"
        },
        "id": "zjOsKKmTfrrx",
        "outputId": "1116b29d-fd04-459f-bf24-16b923c3ab68"
      },
      "outputs": [
        {
          "output_type": "stream",
          "name": "stdout",
          "text": [
            "Ingrese la calificacion: 8\n",
            "Ingrese la calificacion: 9\n",
            "Ingrese la calificacion: 8\n",
            "Ingrese la calificacion: 9\n",
            "Ingrese la calificacion: 7\n",
            "Ingrese la calificacion: 9\n",
            "Ingrese la calificacion: 9\n",
            "Ingrese la calificacion: 9\n",
            "Ingrese la calificacion: 10\n",
            "Ingrese la calificacion: 7\n",
            "Las calificaciones superiores a 8.5 son:  [9.0, 9.0, 9.0, 9.0, 9.0, 10.0]\n"
          ]
        }
      ],
      "source": [
        "#Elabora un programa que lea una lista de 10 calificaciones, el programa deberá imprimir los promedios superiores a 8.5.\n",
        "#Realize el programa haciendo una función que lea los 10 elemntos.\n",
        "#Realize una función que imprima los promedios superiores a 8.5\n",
        "calif=[]\n",
        "def leer(calif):\n",
        "  for i in range(10):\n",
        "    calif.append(float(input(\"Ingrese la calificacion: \")))\n",
        "\n",
        "def prom(calif):\n",
        "  pro = []\n",
        "  for i in calif:\n",
        "      if (i > 8.5):\n",
        "          pro.append(i)\n",
        "  return pro\n",
        "leer(calif)\n",
        "print(\"Las calificaciones superiores a 8.5 son: \", prom(calif))"
      ]
    }
  ]
}