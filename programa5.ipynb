{
  "nbformat": 4,
  "nbformat_minor": 0,
  "metadata": {
    "colab": {
      "provenance": []
    },
    "kernelspec": {
      "name": "python3",
      "display_name": "Python 3"
    },
    "language_info": {
      "name": "python"
    }
  },
  "cells": [
    {
      "cell_type": "code",
      "execution_count": 17,
      "metadata": {
        "colab": {
          "base_uri": "https://localhost:8080/"
        },
        "id": "r5YMj0pwS4fZ",
        "outputId": "4c992e3d-4b9e-48e0-91a8-5bb2d9d509aa"
      },
      "outputs": [
        {
          "output_type": "stream",
          "name": "stdout",
          "text": [
            "{'nombre': 'Raúl', 'matricula': 241690402, 'edad': 16, 'peso': 62, 'telefono': '311-189-3528', 'domicilio': 'Buckingham', 'carrera': 'CDIA'}\n",
            "\n",
            "Eduardo\n",
            "241690402\n",
            "16\n",
            "62\n",
            "311-189-3528\n",
            "Buckingham\n",
            "CDIA\n",
            " \n",
            "El diccionario es:\n",
            "nombre Eduardo\n",
            "matricula 241690402\n",
            "edad 16\n",
            "peso 62\n",
            "telefono 311-189-3528\n",
            "domicilio Buckingham\n",
            "carrera CDIA\n"
          ]
        }
      ],
      "source": [
        "#Crea un diccionario con sus datos personales: Nombre, matricula, edad, peso, teléfono, domicilio, carrera.\n",
        "#Escribe las instrucciones necesarias para acceder y modificar sus elementos.\n",
        "#Escribe código para acceder a cada uno de sus elementos.\n",
        "#Imprime el contenido del diccionario iterando sus elementos.\n",
        "\n",
        "d1= {\n",
        "    'nombre': 'Raúl',\n",
        "    'matricula': 241690406-4,\n",
        "    'edad': 16,\n",
        "    'peso': 62,\n",
        "    'telefono': '311-189-3528',\n",
        "    'domicilio': 'Buckingham',\n",
        "    'carrera': 'CDIA'\n",
        "}\n",
        "print(d1)\n",
        "#Se puede acceder a sus elementos con [] o también con la función get()\n",
        "#Para acceder y modificar los datos debemos poner el siguiente codigo:\n",
        "print(\"\")\n",
        "d1['nombre'] = \"Eduardo\"\n",
        "print(d1['nombre'])\n",
        "print(d1['matricula'])\n",
        "print(d1['edad'])\n",
        "print(d1['peso'])\n",
        "print(d1['telefono'])\n",
        "print(d1['domicilio'])\n",
        "print(d1['carrera'])\n",
        "\n",
        "print(\" \")\n",
        "print(\"El diccionario es:\")\n",
        "for x, y in d1.items():\n",
        "    print(x, y)\n"
      ]
    }
  ]
}