{
  "nbformat": 4,
  "nbformat_minor": 0,
  "metadata": {
    "colab": {
      "provenance": []
    },
    "kernelspec": {
      "name": "python3",
      "display_name": "Python 3"
    },
    "language_info": {
      "name": "python"
    }
  },
  "cells": [
    {
      "cell_type": "code",
      "execution_count": null,
      "metadata": {
        "id": "5PswO3uSm58p"
      },
      "outputs": [],
      "source": [
        "#Realiza programas utilizando listas, realizando operaciones sobre las mismas.\n",
        "#Instrucciones\n",
        "#Elabora un programa según el siguiente planteamiento:\n",
        "#En la estación metereología de la ciudad de Tepic Nayarit, almacenaron en una lista las temperaturas del día de hoy.\n",
        "#temp= [80, 72, 95, 82, 79, 72, 85]\n",
        "#El administrador se dio cuenta que las temperaturas estaban en grados Fahrenheit,\n",
        "#elabore un programa en Python que convierta las temperaturas de la lista de grados FAHRENHEIT A CENTIGRADOS.\n"
      ]
    },
    {
      "cell_type": "code",
      "metadata": {
        "colab": {
          "base_uri": "https://localhost:8080/"
        },
        "id": "ae8b7e3d",
        "outputId": "c0700040-0ade-4d9d-815a-fa8afcb0cc17"
      },
      "source": [
        "temp_f = [80, 72, 95, 82, 79, 72, 85]\n",
        "temp_c = []\n",
        "\n",
        "for i in temp_f:\n",
        "  celsius = (i - 32) * 5/9\n",
        "  temp_c.append(celsius)\n",
        "\n",
        "print(\"Temperaturas en Fahrenheit:\", temp_f)\n",
        "print(\"Temperaturas en Centígrados:\", temp_c)"
      ],
      "execution_count": 1,
      "outputs": [
        {
          "output_type": "stream",
          "name": "stdout",
          "text": [
            "Temperaturas en Fahrenheit: [80, 72, 95, 82, 79, 72, 85]\n",
            "Temperaturas en Centígrados: [26.666666666666668, 22.22222222222222, 35.0, 27.77777777777778, 26.11111111111111, 22.22222222222222, 29.444444444444443]\n"
          ]
        }
      ]
    }
  ]
}