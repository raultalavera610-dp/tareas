{
  "nbformat": 4,
  "nbformat_minor": 0,
  "metadata": {
    "colab": {
      "provenance": []
    },
    "kernelspec": {
      "name": "python3",
      "display_name": "Python 3"
    },
    "language_info": {
      "name": "python"
    }
  },
  "cells": [
    {
      "cell_type": "code",
      "execution_count": 3,
      "metadata": {
        "colab": {
          "base_uri": "https://localhost:8080/"
        },
        "id": "zjOsKKmTfrrx",
        "outputId": "9a9c45f3-7cfd-4916-f96f-d4216a1a104a"
      },
      "outputs": [
        {
          "output_type": "stream",
          "name": "stdout",
          "text": [
            "Ingrese el nombre: Raúl\n",
            "Ingrese la calificacion: 9\n",
            "Ingrese el nombre: Paulina\n",
            "Ingrese la calificacion: 10\n",
            "Ingrese el nombre: Isaac\n",
            "Ingrese la calificacion: 8\n",
            "Ingrese el nombre: Dailannes\n",
            "Ingrese la calificacion: 10\n",
            "Ingrese el nombre: Carlos\n",
            "Ingrese la calificacion: 5\n",
            "Ingrese el nombre: Osvaldo\n",
            "Ingrese la calificacion: 6.4\n",
            "Ingrese el nombre: Pepe\n",
            "Ingrese la calificacion: 7\n",
            "Ingrese el nombre: José\n",
            "Ingrese la calificacion: 4.4\n",
            "Ingrese el nombre: Israel\n",
            "Ingrese la calificacion: 8.5\n",
            "Ingrese el nombre: Manuel\n",
            "Ingrese la calificacion: 7.3\n",
            "Las calificaciones superiores a 8.5 son: \n",
            "Raúl\n",
            "Paulina\n",
            "Dailannes\n"
          ]
        }
      ],
      "source": [
        "#Instrucciones\n",
        "#Elabora un programa que lea en una función una lista de 10 calificaciones y en otro arreglo los nombres de esas personas.\n",
        "#El programa deberá en otra función,  imprimir los nombres de las personas cuyo promedio sea superior a 8.5.\n",
        "#Sube el programa a GitHub y publica el enlace para ser evaluado\n",
        "nombres=[]\n",
        "calif=[]\n",
        "nommayor=[]\n",
        "def leer(calif, nombres):\n",
        "  for i in range(10):\n",
        "      nombres.append(input(\"Ingrese el nombre: \"))\n",
        "      calif.append(float(input(\"Ingrese la calificacion: \")))\n",
        "\n",
        "def mayp(calif, nombres, nommayor):\n",
        "    for i in range(10):\n",
        "        if (calif[i] > 8.5):\n",
        "            nommayor.append(nombres[i])\n",
        "    return nommayor\n",
        "def resultado(nommayor):\n",
        "  print(\"Las calificaciones superiores a 8.5 son: \")\n",
        "  for i in nommayor:\n",
        "      print(f\"{i}\")\n",
        "\n",
        "leer(calif, nombres)\n",
        "mayp(calif, nombres, nommayor)\n",
        "resultado(nommayor)"
      ]
    }
  ]
}