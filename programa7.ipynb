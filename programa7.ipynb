{
  "nbformat": 4,
  "nbformat_minor": 0,
  "metadata": {
    "colab": {
      "provenance": []
    },
    "kernelspec": {
      "name": "python3",
      "display_name": "Python 3"
    },
    "language_info": {
      "name": "python"
    }
  },
  "cells": [
    {
      "cell_type": "code",
      "source": [
        "# Crear una lista\n",
        "L = [\"The Bodyguard\", 7.0, 1992]\n",
        "L"
      ],
      "metadata": {
        "colab": {
          "base_uri": "https://localhost:8080/"
        },
        "id": "IC30LliYmDMW",
        "outputId": "988b1982-b697-47e4-aaa7-5c4d18ae10d8"
      },
      "execution_count": 3,
      "outputs": [
        {
          "output_type": "execute_result",
          "data": {
            "text/plain": [
              "['The Bodyguard', 7.0, 1992]"
            ]
          },
          "metadata": {},
          "execution_count": 3
        }
      ]
    },
    {
      "cell_type": "code",
      "source": [
        "# Imprime los elementos en cada índice\n",
        "print('el mismo elemento usando indexación negativa y positiva:\\n Positivo:',L[0], '\\n Negativo:' , L[-3] )\n",
        "print('el mismo elemento usando indexación negativa y positiva:\\n Positivo:',L[1], '\\n Negativo:' , L[-2] )\n",
        "print('el mismo elemento usando indexación negativa y positiva:\\n Positivo:',L[2], '\\n Negativo:' , L[-1] )"
      ],
      "metadata": {
        "colab": {
          "base_uri": "https://localhost:8080/"
        },
        "id": "RYA-C-bMmIh2",
        "outputId": "7caae750-6e16-4791-9cbf-cd69dac2345d"
      },
      "execution_count": 4,
      "outputs": [
        {
          "output_type": "stream",
          "name": "stdout",
          "text": [
            "el mismo elemento usando indexación negativa y positiva:\n",
            " Positivo: The Bodyguard \n",
            " Negativo: The Bodyguard\n",
            "el mismo elemento usando indexación negativa y positiva:\n",
            " Positivo: 7.0 \n",
            " Negativo: 7.0\n",
            "el mismo elemento usando indexación negativa y positiva:\n",
            " Positivo: 1992 \n",
            " Negativo: 1992\n"
          ]
        }
      ]
    },
    {
      "cell_type": "code",
      "source": [
        "# Lista de muestra\n",
        "[\"The Bodyguard\", 7.0, 1992, [1, 2], (\"A\", 1)]"
      ],
      "metadata": {
        "colab": {
          "base_uri": "https://localhost:8080/"
        },
        "id": "QrTOnNTImeFe",
        "outputId": "2dfbdfe4-2e6c-4720-c4fa-087a6ee24051"
      },
      "execution_count": 5,
      "outputs": [
        {
          "output_type": "execute_result",
          "data": {
            "text/plain": [
              "['The Bodyguard', 7.0, 1992, [1, 2], ('A', 1)]"
            ]
          },
          "metadata": {},
          "execution_count": 5
        }
      ]
    },
    {
      "cell_type": "code",
      "source": [
        "# Lista de muestra\n",
        "L = [\"The Bodyguard\", 7.0,1992,\"BG\",1]\n",
        "L"
      ],
      "metadata": {
        "colab": {
          "base_uri": "https://localhost:8080/"
        },
        "id": "43UTk-59miom",
        "outputId": "70394cb4-3153-41bf-d696-56636be36ac2"
      },
      "execution_count": 7,
      "outputs": [
        {
          "output_type": "execute_result",
          "data": {
            "text/plain": [
              "['The Bodyguard', 7.0, 1992, 'BG', 1]"
            ]
          },
          "metadata": {},
          "execution_count": 7
        }
      ]
    },
    {
      "cell_type": "code",
      "source": [
        "# Segmentación de listas\n",
        "L[3:5]"
      ],
      "metadata": {
        "colab": {
          "base_uri": "https://localhost:8080/"
        },
        "id": "2s1jDxh-mma2",
        "outputId": "b6925169-e768-411e-c95d-de3d957211a6"
      },
      "execution_count": 8,
      "outputs": [
        {
          "output_type": "execute_result",
          "data": {
            "text/plain": [
              "['BG', 1]"
            ]
          },
          "metadata": {},
          "execution_count": 8
        }
      ]
    },
    {
      "cell_type": "code",
      "source": [
        "# Use extender para agregar elementos a la lista\n",
        "L = [ \"The Bodyguard\", 7.0]\n",
        "L.extend(['pop', 10])\n",
        "L"
      ],
      "metadata": {
        "colab": {
          "base_uri": "https://localhost:8080/"
        },
        "id": "zYB6kQItmqIm",
        "outputId": "ad2a784c-e233-4558-f493-29fbb60568e9"
      },
      "execution_count": 11,
      "outputs": [
        {
          "output_type": "execute_result",
          "data": {
            "text/plain": [
              "['The Bodyguard', 7.0, 'pop', 10]"
            ]
          },
          "metadata": {},
          "execution_count": 11
        }
      ]
    },
    {
      "cell_type": "code",
      "source": [
        "# Usar append para agregar elementos a la lista\n",
        "L = [ \"The Bodyguard\", 7.0]\n",
        "L.append(['pop', 10])\n",
        "L"
      ],
      "metadata": {
        "colab": {
          "base_uri": "https://localhost:8080/"
        },
        "id": "2BKs63D5mxS2",
        "outputId": "84db1ac0-f218-4120-e0dc-4bbc93112224"
      },
      "execution_count": 13,
      "outputs": [
        {
          "output_type": "execute_result",
          "data": {
            "text/plain": [
              "['The Bodyguard', 7.0, ['pop', 10]]"
            ]
          },
          "metadata": {},
          "execution_count": 13
        }
      ]
    },
    {
      "cell_type": "code",
      "source": [
        "# Cambiar el elemento en función del índice\n",
        "A = [\"disco\", 10, 1.2]\n",
        "print('Before change:', A)\n",
        "A[0] = 'hard rock'\n",
        "print('After change:', A)"
      ],
      "metadata": {
        "colab": {
          "base_uri": "https://localhost:8080/"
        },
        "id": "nVH95yZtm0GO",
        "outputId": "e9b9f597-b403-4773-8a45-a0a17cdb0369"
      },
      "execution_count": 16,
      "outputs": [
        {
          "output_type": "stream",
          "name": "stdout",
          "text": [
            "Before change: ['disco', 10, 1.2]\n",
            "After change: ['hard rock', 10, 1.2]\n"
          ]
        }
      ]
    },
    {
      "cell_type": "code",
      "source": [
        "# Eliminar el elemento en función del índice\n",
        "print('Before change:', A)\n",
        "del(A[0])\n",
        "print('After change:', A)"
      ],
      "metadata": {
        "colab": {
          "base_uri": "https://localhost:8080/"
        },
        "id": "Gy1ILW5Sm62m",
        "outputId": "9043c4dd-73f7-4b1b-ac0f-2b644ccf2fa3"
      },
      "execution_count": 18,
      "outputs": [
        {
          "output_type": "stream",
          "name": "stdout",
          "text": [
            "Before change: ['hard rock', 10, 1.2]\n",
            "After change: [10, 1.2]\n"
          ]
        }
      ]
    },
    {
      "cell_type": "code",
      "source": [
        "# Divida la cadena, el valor predeterminado es por espacio\n",
        "'hard rock'.split()"
      ],
      "metadata": {
        "colab": {
          "base_uri": "https://localhost:8080/"
        },
        "id": "6ict1VREnEe9",
        "outputId": "08019858-b40e-4ea5-b357-c05593c888be"
      },
      "execution_count": 19,
      "outputs": [
        {
          "output_type": "execute_result",
          "data": {
            "text/plain": [
              "['hard', 'rock']"
            ]
          },
          "metadata": {},
          "execution_count": 19
        }
      ]
    },
    {
      "cell_type": "code",
      "source": [
        "# Dividir la cadena por coma\n",
        "'A,B,C,D'.split(',')"
      ],
      "metadata": {
        "colab": {
          "base_uri": "https://localhost:8080/"
        },
        "id": "OsNzAI5xnIht",
        "outputId": "6f5d6304-61d6-4bad-b0ca-5c2fd4db6f74"
      },
      "execution_count": 20,
      "outputs": [
        {
          "output_type": "execute_result",
          "data": {
            "text/plain": [
              "['A', 'B', 'C', 'D']"
            ]
          },
          "metadata": {},
          "execution_count": 20
        }
      ]
    },
    {
      "cell_type": "code",
      "source": [
        "# Copiar (copiar por referencia) la lista A\n",
        "A = [\"hard rock\", 10, 1.2]\n",
        "B = A\n",
        "print('A:', A)\n",
        "print('B:', B)"
      ],
      "metadata": {
        "colab": {
          "base_uri": "https://localhost:8080/"
        },
        "id": "iuW0uE_NnMD2",
        "outputId": "f2346a20-e940-4fbe-d7b3-aef67d7b96e1"
      },
      "execution_count": 21,
      "outputs": [
        {
          "output_type": "stream",
          "name": "stdout",
          "text": [
            "A: ['hard rock', 10, 1.2]\n",
            "B: ['hard rock', 10, 1.2]\n"
          ]
        }
      ]
    },
    {
      "cell_type": "code",
      "source": [
        "# Examinar la copia por referencia\n",
        "print('B[0]:', B[0])\n",
        "A[0] = \"banana\"\n",
        "print('B[0]:', B[0])"
      ],
      "metadata": {
        "colab": {
          "base_uri": "https://localhost:8080/"
        },
        "id": "u1E6sLg6nXNu",
        "outputId": "cbe8899a-112d-4304-eea7-5f915acfda84"
      },
      "execution_count": 24,
      "outputs": [
        {
          "output_type": "stream",
          "name": "stdout",
          "text": [
            "B[0]: hard rock\n",
            "B[0]: banana\n"
          ]
        }
      ]
    },
    {
      "cell_type": "code",
      "source": [
        "# Clonar (clonar por valor) la lista A\n",
        "B = A[:]\n",
        "B"
      ],
      "metadata": {
        "colab": {
          "base_uri": "https://localhost:8080/"
        },
        "id": "nt03fY1unXnm",
        "outputId": "3bdc87c5-cb0b-411d-fe3e-510f220dab0a"
      },
      "execution_count": 25,
      "outputs": [
        {
          "output_type": "execute_result",
          "data": {
            "text/plain": [
              "['banana', 10, 1.2]"
            ]
          },
          "metadata": {},
          "execution_count": 25
        }
      ]
    },
    {
      "cell_type": "code",
      "source": [
        "#Ahora, si cambias A, B no cambiará:\n",
        "print('B[0]:', B[0])\n",
        "A[0] = \"hard rock\"\n",
        "print('B[0]:', B[0])"
      ],
      "metadata": {
        "colab": {
          "base_uri": "https://localhost:8080/"
        },
        "id": "aS2mYNJznjRW",
        "outputId": "63bbf447-755e-4342-9d30-6dd0e768810c"
      },
      "execution_count": 27,
      "outputs": [
        {
          "output_type": "stream",
          "name": "stdout",
          "text": [
            "B[0]: banana\n",
            "B[0]: banana\n"
          ]
        }
      ]
    },
    {
      "cell_type": "markdown",
      "source": [
        "##Cuestionario de listas\n",
        "###1.Cree una lista \"a_list\"\n",
        "###2.Encuentre el valor almacenado en el índice 1 de a_list.\n",
        "###3.Recupere los elementos almacenados en el índice 1, 2 y 3 de a_list.\n"
      ],
      "metadata": {
        "id": "7imUBJpblvqf"
      }
    },
    {
      "cell_type": "code",
      "source": [
        "#Cuestionario de listas\n",
        "#1\n",
        "a_list = [1, 'hello', [1, 2, 3], True]\n",
        "print(a_list)\n",
        "\n",
        "#2\n",
        "print(a_list[1])\n",
        "\n",
        "#3\n",
        "a_list[1:4]\n"
      ],
      "metadata": {
        "colab": {
          "base_uri": "https://localhost:8080/"
        },
        "id": "oWs8IY0pZzzk",
        "outputId": "4dd5dd52-0ded-4b07-e136-08b2ce19e334"
      },
      "execution_count": null,
      "outputs": [
        {
          "output_type": "stream",
          "name": "stdout",
          "text": [
            "[1, 'hello', [1, 2, 3], True]\n",
            "hello\n"
          ]
        },
        {
          "output_type": "execute_result",
          "data": {
            "text/plain": [
              "['hello', [1, 2, 3], True]"
            ]
          },
          "metadata": {},
          "execution_count": 1
        }
      ]
    },
    {
      "cell_type": "markdown",
      "source": [
        "##Escenario : Lista de la compra\n",
        "\n",
        "###1.Tarea-1 Crear una lista vacía\n",
        "###2.Tarea-2 Almacene el número de elementos en el shopping_list\n",
        "###3.Tarea-3 Agregar un nuevo elemento al shopping_list\n",
        "###4.Task-4 Print First item from the shopping_list\n",
        "###5.Tarea-5 Imprimir Último elemento del shopping_list\n",
        "###6.Tarea-6 Imprimir toda la lista de compras\n",
        "###7.Tarea-7 Imprimir el artículo que es importante comprar de la lista\n",
        "###8.Tarea-8 Cambiar el elemento del shopping_list\n",
        "###9.Tarea-9 Eliminar el elemento del shopping_list que no es necesario\n",
        "###10.Tarea-10 Imprimir la lista de la compra"
      ],
      "metadata": {
        "id": "0w8RLTsOl4Hu"
      }
    },
    {
      "cell_type": "code",
      "source": [
        "#Escenario : Lista de la compra\n",
        "\n",
        "#1\n",
        "shopping_list = []\n",
        "print(shopping_list)\n",
        "\n",
        "#2\n",
        "shopping_list = ['Reloj', 'Portátil', 'Calzado', 'Pluma', 'Ropa']\n",
        "print(shopping_list)\n",
        "\n",
        "#3\n",
        "shopping_list.append('Fútbol')\n",
        "print(shopping_list)\n",
        "\n",
        "#4\n",
        "print(shopping_list[0])\n",
        "# 'Reloj'\n",
        "\n",
        "#5\n",
        "print(shopping_list[-1])\n",
        "# 'Fútbol'\n",
        "\n",
        "#6\n",
        "print(shopping_list)\n",
        "# ['Reloj', 'Portátil', 'Calzado', 'Pluma', 'Ropa', 'Fútbol']\n",
        "\n",
        "#7\n",
        "print(shopping_list[1:3])\n",
        "# ['Portátil', 'Calzado']\n",
        "\n",
        "#8\n",
        "shopping_list[3] = 'Cuaderno'\n",
        "print(shopping_list)\n",
        "# ['Reloj', 'Portátil', 'Calzado', 'Cuaderno', 'Ropa', 'Fútbol']\n",
        "\n",
        "#9\n",
        "del(shopping_list[4])\n",
        "print(shopping_list)\n",
        "# ['Reloj', 'Portátil', 'Calzado', 'Cuaderno', 'Fútbol']\n",
        "\n",
        "#10\n",
        "print(shopping_list)\n",
        "# ['Reloj', 'Portátil', 'Calzado', 'Cuaderno', 'Fútbol']"
      ],
      "metadata": {
        "colab": {
          "base_uri": "https://localhost:8080/"
        },
        "id": "PJ0MmOsQe3_Z",
        "outputId": "2139b34a-e8e0-4c90-e666-c0862b022130"
      },
      "execution_count": null,
      "outputs": [
        {
          "output_type": "stream",
          "name": "stdout",
          "text": [
            "[]\n",
            "['Reloj', 'Portátil', 'Calzado', 'Pluma', 'Ropa']\n",
            "['Reloj', 'Portátil', 'Calzado', 'Pluma', 'Ropa', 'Fútbol']\n",
            "Reloj\n",
            "Fútbol\n",
            "['Reloj', 'Portátil', 'Calzado', 'Pluma', 'Ropa', 'Fútbol']\n",
            "['Portátil', 'Calzado']\n",
            "['Reloj', 'Portátil', 'Calzado', 'Cuaderno', 'Ropa', 'Fútbol']\n",
            "['Reloj', 'Portátil', 'Calzado', 'Cuaderno', 'Fútbol']\n",
            "['Reloj', 'Portátil', 'Calzado', 'Cuaderno', 'Fútbol']\n"
          ]
        }
      ]
    }
  ]
}