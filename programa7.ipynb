{
  "nbformat": 4,
  "nbformat_minor": 0,
  "metadata": {
    "colab": {
      "provenance": []
    },
    "kernelspec": {
      "name": "python3",
      "display_name": "Python 3"
    },
    "language_info": {
      "name": "python"
    }
  },
  "cells": [
    {
      "cell_type": "markdown",
      "source": [
        "##Cuestionario de listas\n",
        "###1.Cree una lista \"a_list\"\n",
        "###2.Encuentre el valor almacenado en el índice 1 de a_list.\n",
        "###3.Recupere los elementos almacenados en el índice 1, 2 y 3 de a_list.\n",
        "\n",
        "\n",
        "##Escenario : Lista de la compra\n",
        "\n",
        "###1.Tarea-1 Crear una lista vacía\n",
        "###2.Tarea-2 Almacene el número de elementos en el shopping_list\n",
        "###3.Tarea-3 Agregar un nuevo elemento al shopping_list\n",
        "###4.Task-4 Print First item from the shopping_list\n",
        "###5.Tarea-5 Imprimir Último elemento del shopping_list\n",
        "###6.Tarea-6 Imprimir toda la lista de compras\n",
        "###7.Tarea-7 Imprimir el artículo que es importante comprar de la lista\n",
        "###8.Tarea-8 Cambiar el elemento del shopping_list\n",
        "###9.Tarea-9 Eliminar el elemento del shopping_list que no es necesario\n",
        "###10.Tarea-10 Imprimir la lista de la compra"
      ],
      "metadata": {
        "id": "WuvQDIEnYSWF"
      }
    },
    {
      "cell_type": "code",
      "source": [
        "#Cuestionario de listas\n",
        "#1\n",
        "a_list = [1, 'hello', [1, 2, 3], True]\n",
        "print(a_list)\n",
        "\n",
        "#2\n",
        "a_list[1]\n",
        "#'hello'\n",
        "\n",
        "#3\n",
        "a_list[1:4]\n"
      ],
      "metadata": {
        "colab": {
          "base_uri": "https://localhost:8080/"
        },
        "id": "oWs8IY0pZzzk",
        "outputId": "29a74b9f-979d-4b74-fdaf-e3ad8041927f"
      },
      "execution_count": null,
      "outputs": [
        {
          "output_type": "stream",
          "name": "stdout",
          "text": [
            "[1, 'hello', [1, 2, 3], True]\n"
          ]
        },
        {
          "output_type": "execute_result",
          "data": {
            "text/plain": [
              "['hello', [1, 2, 3], True]"
            ]
          },
          "metadata": {},
          "execution_count": 9
        }
      ]
    },
    {
      "cell_type": "code",
      "source": [
        "#Escenario : Lista de la compra\n",
        "\n",
        "#1\n",
        "shopping_list = []\n",
        "print(shopping_list)\n",
        "\n",
        "#2\n",
        "shopping_list = ['Reloj', 'Portátil', 'Calzado', 'Pluma', 'Ropa']\n",
        "print(shopping_list)\n",
        "\n",
        "#3\n",
        "shopping_list.append('Fútbol')\n",
        "print(shopping_list)\n",
        "\n",
        "#4\n",
        "print(shopping_list[0])\n",
        "# 'Reloj'\n",
        "\n",
        "#5\n",
        "print(shopping_list[-1])\n",
        "# 'Fútbol'\n",
        "\n",
        "#6\n",
        "print(shopping_list)\n",
        "# ['Reloj', 'Portátil', 'Calzado', 'Pluma', 'Ropa', 'Fútbol']\n",
        "\n",
        "#7\n",
        "print(shopping_list[1:3])\n",
        "# ['Portátil', 'Calzado']\n",
        "\n",
        "#8\n",
        "shopping_list[3] = 'Cuaderno'\n",
        "print(shopping_list)\n",
        "# ['Reloj', 'Portátil', 'Calzado', 'Cuaderno', 'Ropa', 'Fútbol']\n",
        "\n",
        "#9\n",
        "del(shopping_list[4])\n",
        "print(shopping_list)\n",
        "# ['Reloj', 'Portátil', 'Calzado', 'Cuaderno', 'Fútbol']\n",
        "\n",
        "#10\n",
        "print(shopping_list)\n",
        "# ['Reloj', 'Portátil', 'Calzado', 'Cuaderno', 'Fútbol']"
      ],
      "metadata": {
        "colab": {
          "base_uri": "https://localhost:8080/"
        },
        "id": "PJ0MmOsQe3_Z",
        "outputId": "2139b34a-e8e0-4c90-e666-c0862b022130"
      },
      "execution_count": null,
      "outputs": [
        {
          "output_type": "stream",
          "name": "stdout",
          "text": [
            "[]\n",
            "['Reloj', 'Portátil', 'Calzado', 'Pluma', 'Ropa']\n",
            "['Reloj', 'Portátil', 'Calzado', 'Pluma', 'Ropa', 'Fútbol']\n",
            "Reloj\n",
            "Fútbol\n",
            "['Reloj', 'Portátil', 'Calzado', 'Pluma', 'Ropa', 'Fútbol']\n",
            "['Portátil', 'Calzado']\n",
            "['Reloj', 'Portátil', 'Calzado', 'Cuaderno', 'Ropa', 'Fútbol']\n",
            "['Reloj', 'Portátil', 'Calzado', 'Cuaderno', 'Fútbol']\n",
            "['Reloj', 'Portátil', 'Calzado', 'Cuaderno', 'Fútbol']\n"
          ]
        }
      ]
    }
  ]
}