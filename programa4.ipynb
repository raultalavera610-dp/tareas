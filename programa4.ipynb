{
  "nbformat": 4,
  "nbformat_minor": 0,
  "metadata": {
    "colab": {
      "provenance": []
    },
    "kernelspec": {
      "name": "python3",
      "display_name": "Python 3"
    },
    "language_info": {
      "name": "python"
    }
  },
  "cells": [
    {
      "cell_type": "code",
      "execution_count": 1,
      "metadata": {
        "colab": {
          "base_uri": "https://localhost:8080/"
        },
        "id": "7iG28urM-MHu",
        "outputId": "0b3e45af-8f59-42ab-f03e-ef8cf0bc4468"
      },
      "outputs": [
        {
          "output_type": "stream",
          "name": "stdout",
          "text": [
            "Ingrese la edad: 17\n",
            "Ingrese la edad: 22\n",
            "Ingrese la edad: 7\n",
            "Ingrese la edad: 13\n",
            "Ingrese la edad: 44\n",
            "Ingrese la edad: 25\n",
            "Ingrese la edad: 64\n",
            "Ingrese la edad: 34\n",
            "Ingrese la edad: 28\n",
            "Ingrese la edad: 12\n",
            "Mayores de edad:  6\n",
            "Menores de edad:  4\n"
          ]
        }
      ],
      "source": [
        "#Elabore un programa que:\n",
        "#Lea en un arreglo las edades de 10 personas (usar una función para leer los datos).\n",
        "#Elabore una función que cuente cuantas personas son mayores de ead y cuantas menores de edad.\n",
        "#Imprima en otra funcion cuantos son mayores de edad y cuantos menores de edad.\n",
        "#El programa debe tener 3 funciones: UNA PARA LEER LOS DATOS,\n",
        "#LA SEGUNDA PARA OBTENER LOS MAYORES Y MENORES DE EDAD Y LA TERCERA PARA IMPRIMIR EL RESULTADO.\n",
        "edad=[]\n",
        "maye=[]\n",
        "mene=[]\n",
        "def leer(edad):\n",
        "    for i in range(10):\n",
        "        edad.append(int(input(\"Ingrese la edad: \")))\n",
        "\n",
        "def con(maye,mene):\n",
        "    for i in range(10):\n",
        "        if edad[i]>=18:\n",
        "            maye.append(edad[i])\n",
        "        else:\n",
        "            mene.append(edad[i])\n",
        "\n",
        "def imprimir(maye,mene):\n",
        "    print(\"Mayores de edad: \",len(maye))\n",
        "    print(\"Menores de edad: \",len(mene))\n",
        "\n",
        "leer(edad)\n",
        "con(maye,mene)\n",
        "imprimir(maye,mene)"
      ]
    }
  ]
}